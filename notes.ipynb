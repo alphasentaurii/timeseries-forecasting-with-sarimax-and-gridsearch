{
 "cells": [
  {
   "cell_type": "code",
   "execution_count": 5,
   "metadata": {
    "ExecuteTime": {
     "end_time": "2020-02-01T08:44:16.211118Z",
     "start_time": "2020-02-01T08:44:16.155583Z"
    }
   },
   "outputs": [],
   "source": [
    "\n",
    "# # Mount Kisco is \n",
    "# # zip code == 10549\n",
    "\n",
    "# 1 Kirby Plaza\n",
    "# Mount Kisco, NY 10549-2201\n",
    "# (36.5 miles to Grand Central Terminal)\n",
    "\n",
    "# mtkisco = westchester.loc[westchester.City == 'Mount Kisco']\n",
    "# mtkisco.MeanValue.describe()\n",
    "\n",
    "\n",
    "# YONKERS\n",
    "# 5 Buena Vista Avenue\n",
    "# Yonkers, NY 10701-3544\n",
    "# (15.1 miles to Grand Central Terminal)\n",
    "\n",
    "# Mount Vernon West\n",
    "# 1 Mount Vernon Avenue\n",
    "# Mount Vernon, NY 10550\n",
    "# (13.1 miles to Grand Central Terminal)\n",
    "\n",
    "# Mount Vernon East \n",
    "# 1 East First Street\n",
    "# Mount Vernon, NY 10550\n",
    "# (14 miles to Grand Central Terminal)\n",
    "\n",
    "\n",
    "# Pelham\n",
    "# 1 Pelhamwood Avenue\n",
    "# Pelham, NY 10803\n",
    "# (15.1 miles to Grand Central Terminal)\n",
    "\n",
    "\n",
    "\n",
    "\n",
    "# # Dobbs Ferry - village in Greenburgh - zipcode = 10522\n",
    "# # 19.8 miles by road to NYC\n",
    "# dobbsferry = westchester.loc[westchester.City == 'Dobbs Ferry']\n",
    "# dobbsferry.MeanValue.describe()\n",
    "\n",
    "\n",
    "# # Tarrytown is a village in the town of Greenburgh ~25 miles north of Manhattan\n",
    "# # Zip code = 10591\n",
    "# tarrytown = westchester.loc[westchester.RegionName == 10591]\n",
    "# tarrytown.MeanValue.describe()\n",
    "\n",
    "# katonah = westchester.loc[westchester.RegionName == 10536]\n",
    "# katonah.MeanValue.describe()\n",
    "\n",
    "# mamaroneck = westchester.loc[westchester.City == 'Mamaroneck']\n",
    "# mamaroneck.MeanValue.describe()\n",
    "\n",
    "# #### Mean Value > $600,000\n",
    "\n",
    "# # Bronxville is a town within the city of Eastchester\n",
    "# # zip code = 10708\n",
    "# bronxville = westchester.loc[westchester.RegionName == 10708]\n",
    "# bronxville.MeanValue.describe()"
   ]
  },
  {
   "cell_type": "code",
   "execution_count": 4,
   "metadata": {
    "ExecuteTime": {
     "end_time": "2020-02-01T03:14:28.012572Z",
     "start_time": "2020-02-01T03:14:28.001975Z"
    }
   },
   "outputs": [],
   "source": [
    "trainmissing= ['Yorktown', 'Eastchester', 'Sleepy Hollow', 'Mount Vernon',\n",
    "       'Greenburgh', 'Cortlandt Manor', 'Croton-on-Hudson', 'Somers',\n",
    "       'Briarcliff Manor', 'Elmsford', 'North Castle', 'Lewisboro',\n",
    "       'Bedford', 'Ardsley', 'Pound Ridge', 'North Salem', 'Thornwood',\n",
    "       'Purchase']"
   ]
  },
  {
   "cell_type": "code",
   "execution_count": null,
   "metadata": {},
   "outputs": [],
   "source": [
    "\n",
    "# Size Rank\n",
    "# count    15994.000000\n",
    "# mean      8044.414781\n",
    "# std       3362.529171\n",
    "# min        275.000000\n",
    "# 25%       5843.000000\n",
    "# 50%       8312.000000\n",
    "# 75%      10334.000000\n",
    "# max      14621.000000\n",
    "# Name: SizeRank, dtype: float64\n",
    "\n",
    "# MeanValue\n",
    "#MEAN # 526,437\n",
    "#MIN 112,600\n",
    "#MAX 1,783,600\n",
    "# mean     5.264377e+05\n",
    "# std      2.451927e+05\n",
    "# min      1.126000e+05\n",
    "# 25%      3.584000e+05\n",
    "# 50%      4.894000e+05\n",
    "# 75%      6.338000e+05\n",
    "# max      1.783600e+06\n",
    "# Name: MeanValue, dtype: float64\n",
    "\n",
    "\n",
    "#groups = NY.groupby(['MeanValue']).mean()\n",
    "\n",
    "# groups.min()\n",
    "# SOMERS\n",
    "#NYC[10501]\n",
    "# RegionName    10501.0\n",
    "# SizeRank        275.0\n",
    "# dtype: float64\n",
    "\n",
    "# groups.max()\n",
    "# New Rochelle\n",
    "# NYC[10805]\n",
    "# RegionName    10805.0\n",
    "# SizeRank      14621.0\n",
    "# NYC[10805].MeanValue.mean() # 464546.7924528302\n"
   ]
  },
  {
   "cell_type": "code",
   "execution_count": 1,
   "metadata": {
    "ExecuteTime": {
     "end_time": "2020-02-02T00:27:15.929435Z",
     "start_time": "2020-02-02T00:27:12.962884Z"
    }
   },
   "outputs": [],
   "source": [
    "import matplotlib.pyplot as plt\n",
    "%matplotlib inline\n",
    "import seaborn as sns\n",
    "import pandas as pd\n",
    "import numpy as np"
   ]
  },
  {
   "cell_type": "markdown",
   "metadata": {},
   "source": [
    "| Tables   |      Are      |  Cool |\n",
    "|----------|:-------------:|------:|\n",
    "| col 1 is |  left-aligned | 1600  |\n",
    "| col 2 is |    centered   |   12  |\n",
    "| col 3 is | right-aligned |    1  |\n"
   ]
  },
  {
   "cell_type": "code",
   "execution_count": 2,
   "metadata": {
    "ExecuteTime": {
     "end_time": "2020-02-02T00:27:20.449913Z",
     "start_time": "2020-02-02T00:27:19.689552Z"
    }
   },
   "outputs": [
    {
     "data": {
      "image/png": "[encoded data removed]",
      "text/plain": [
       "<Figure size 360x360 with 1 Axes>"
      ]
     },
     "metadata": {
      "needs_background": "light"
     },
     "output_type": "display_data"
    }
   ],
   "source": [
    "fmri = sns.load_dataset(\"fmri\")\n",
    "sns.relplot(x=\"timepoint\", y=\"signal\", kind=\"line\", data=fmri);"
   ]
  },
  {
   "cell_type": "code",
   "execution_count": 3,
   "metadata": {
    "ExecuteTime": {
     "end_time": "2020-02-02T00:27:44.369390Z",
     "start_time": "2020-02-02T00:27:44.360899Z"
    }
   },
   "outputs": [],
   "source": [
    "def hexbin(x, y, color, **kwargs):\n",
    "    cmap = sns.light_palette(color, as_cmap=True)\n",
    "    plt.hexbin(x, y, gridsize=15, cmap=cmap, **kwargs)\n",
    "    \n",
    "    with sns.axes_style(\"dark\"):\n",
    "        g = sns.FacetGrid(tips, hue=\"time\", col=\"time\", height=4)\n",
    "        g.map(hexbin, \"total_bill\", \"tip\", extent=[0, 50, 0, 10]);\n",
    "\n"
   ]
  },
  {
   "cell_type": "code",
   "execution_count": null,
   "metadata": {},
   "outputs": [],
   "source": [
    "\n",
    "# # Initialize the FacetGrid object\n",
    "# pal = sns.cubehelix_palette(10, rot=-.25, light=.7)\n",
    "# g = sns.FacetGrid(df, row=\"g\", hue=\"g\", aspect=15, height=.5, palette=pal)\n",
    "\n",
    "# # Draw the densities in a few steps\n",
    "# g.map(sns.kdeplot, \"x\", clip_on=False, shade=True, alpha=1, lw=1.5, bw=.2)\n",
    "# g.map(sns.kdeplot, \"x\", clip_on=False, color=\"w\", lw=2, bw=.2)\n",
    "# g.map(plt.axhline, y=0, lw=2, clip_on=False)\n"
   ]
  },
  {
   "cell_type": "code",
   "execution_count": null,
   "metadata": {},
   "outputs": [],
   "source": [
    "#NY.reset_index(inplace=True,level=0,drop=True)\n",
    "#NY.set_index(\"Month\",inplace=True)\n",
    "#ny.reset_index(inplace=True,level=0, drop=True)"
   ]
  },
  {
   "cell_type": "code",
   "execution_count": null,
   "metadata": {},
   "outputs": [],
   "source": [
    "# dTX = mtkisco.copy()\n",
    "# dTX.head()\n",
    "\n",
    "# # Mount Kisco is 43 miles by car from Manhattan (51 mins)\n",
    "# # zip code == 10549\n",
    "#\n",
    "# fig = px.line(ts,y='MeanValue')\n",
    "# fig.show()\n",
    "ts = NY.loc[NY['RegionName'] == 10549]['MeanValue']\n",
    "\n",
    "\n",
    "import plotly.graph_objects as go\n",
    "import pandas as pd\n",
    "\n",
    "fig = go.Figure()\n",
    "fig.add_trace(go.Scatter(x=df.Date, y=df['AAPL.High'], name=\"AAPL High\",\n",
    "                         line_color='deepskyblue'))\n",
    "\n",
    "fig.add_trace(go.Scatter(x=df.Date, y=df['AAPL.Low'], name=\"AAPL Low\",\n",
    "                         line_color='dimgray'))\n",
    "\n",
    "fig.update_layout(title_text='Time Series with Rangeslider',\n",
    "                  xaxis_rangeslider_visible=True)\n",
    "fig.show()\n"
   ]
  },
  {
   "cell_type": "markdown",
   "metadata": {},
   "source": [
    "the time series is not stationary and will require differencing to make it stationary, at least a difference order of 1.\n",
    "\n",
    "Let’s also take a quick look at an autocorrelation plot of the time series"
   ]
  },
  {
   "cell_type": "markdown",
   "metadata": {},
   "source": [
    "Color Sequences\n",
    "Color sequences are continuous representations of color and are usually defined as a fixed number of steps between a minimum and maximal value. Sequences must be created with a total number of bins (or length) before plotting to ensure that the values are assigned correctly. In the listing below, each sequence is shown with varying lengths to describe the range of colors in detail.\n",
    "\n",
    "Color sequences are most often used in regressions to show the distribution in the range of target values. They can also be used in clustering and distribution analysis to show distance or histogram data.\n",
    "\n",
    "`spectral 3`\n",
    "`spectral 11`"
   ]
  },
  {
   "cell_type": "markdown",
   "metadata": {
    "ExecuteTime": {
     "end_time": "2020-01-23T22:34:05.782946Z",
     "start_time": "2020-01-23T22:34:05.621348Z"
    }
   },
   "source": [
    "`yellowbrick.style.rcmod.reset_defaults()`\n",
    "[source] \n",
    "Restore all RC params to default settings.\n",
    "\n",
    "`yellowbrick.style.rcmod.reset_orig()`\n",
    "[source]\n",
    "Restore all RC params to original settings (respects custom rc).\n",
    "\n"
   ]
  }
 ],
 "metadata": {
  "kernelspec": {
   "display_name": "learn-env",
   "language": "python",
   "name": "learn-env"
  },
  "language_info": {
   "codemirror_mode": {
    "name": "ipython",
    "version": 3
   },
   "file_extension": ".py",
   "mimetype": "text/x-python",
   "name": "python",
   "nbconvert_exporter": "python",
   "pygments_lexer": "ipython3",
   "version": "3.7.4"
  },
  "toc": {
   "base_numbering": 1,
   "nav_menu": {},
   "number_sections": true,
   "sideBar": true,
   "skip_h1_title": false,
   "title_cell": "Table of Contents",
   "title_sidebar": "Contents",
   "toc_cell": false,
   "toc_position": {},
   "toc_section_display": true,
   "toc_window_display": true
  }
 },
 "nbformat": 4,
 "nbformat_minor": 2
}
